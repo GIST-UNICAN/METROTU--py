{
 "cells": [
  {
   "cell_type": "code",
   "execution_count": 1,
   "metadata": {},
   "outputs": [
    {
     "name": "stdout",
     "output_type": "stream",
     "text": [
      "invalid literal for int() with base 10: 'NULL'\n",
      "Row mala\n",
      "[3, 101, 0, 'NULL', '1', '2018-04-23 06:55:00.000', 'NULL', 'NULL']\n",
      "invalid literal for int() with base 10: 'NULL'\n",
      "Row mala\n",
      "[3, 101, 0, 'NULL', '1', '2018-04-23 07:10:00.000', 'NULL', 'NULL']\n",
      "invalid literal for int() with base 10: 'NULL'\n",
      "Row mala\n",
      "[3, 101, 0, 'NULL', '0', '2018-04-23 06:55:00.000', 'NULL', 'NULL']\n",
      "invalid literal for int() with base 10: 'NULL'\n",
      "Row mala\n",
      "[3, 101, 0, 'NULL', '1', '2018-04-20 06:55:00.000', 'NULL', 'NULL']\n",
      "invalid literal for int() with base 10: 'NULL'\n",
      "Row mala\n",
      "[3, 101, 0, 'NULL', '1', '2018-04-20 07:10:00.000', 'NULL', 'NULL']\n",
      "invalid literal for int() with base 10: 'NULL'\n",
      "Row mala\n",
      "[3, 101, 0, 'NULL', '0', '2018-04-20 06:55:00.000', 'NULL', 'NULL']\n",
      "invalid literal for int() with base 10: ''\n",
      "Row mala\n",
      "['', '', '', '', '', '', '', '']\n",
      "invalid literal for int() with base 10: ''\n",
      "Row mala\n",
      "['', '', '', '', '', '', '', '']\n",
      "invalid literal for int() with base 10: ''\n",
      "Row mala\n",
      "['', '', '', '', '', '', '', '']\n",
      "17515\n",
      "9\n"
     ]
    }
   ],
   "source": [
    "import filtra_rpt_a_db_desde_datos_reales_con_estimacion"
   ]
  },
  {
   "cell_type": "code",
   "execution_count": 4,
   "metadata": {},
   "outputs": [],
   "source": [
    "\n",
    "import COORD_SARDINERO_BARRIOS_crea_pdf_con_pasos_reales"
   ]
  }
 ],
 "metadata": {
  "kernelspec": {
   "display_name": "Python 3",
   "language": "python",
   "name": "python3"
  },
  "language_info": {
   "codemirror_mode": {
    "name": "ipython",
    "version": 3
   },
   "file_extension": ".py",
   "mimetype": "text/x-python",
   "name": "python",
   "nbconvert_exporter": "python",
   "pygments_lexer": "ipython3",
   "version": "3.6.5"
  }
 },
 "nbformat": 4,
 "nbformat_minor": 2
}
